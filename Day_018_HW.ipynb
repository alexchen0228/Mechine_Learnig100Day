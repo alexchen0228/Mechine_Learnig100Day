{
 "cells": [
  {
   "cell_type": "markdown",
   "metadata": {
    "collapsed": true
   },
   "source": [
    "# [作業目標]\n",
    "- 使用 Day 17 剛學到的方法, 對較完整的資料生成離散化特徵\n",
    "- 觀察上述離散化特徵, 對於目標值的預測有沒有幫助"
   ]
  },
  {
   "cell_type": "markdown",
   "metadata": {
    "collapsed": true
   },
   "source": [
    "# [作業重點]\n",
    "- 仿照 Day 17 的語法, 將年齡資料 ('DAYS_BIRTH' 除以 365) 離散化\n",
    "- 繪製上述的 \"離散化標籤\" 與目標值 ('TARGET') 的長條圖"
   ]
  },
  {
   "cell_type": "code",
   "execution_count": 2,
   "metadata": {
    "collapsed": true
   },
   "outputs": [],
   "source": [
    "# 載入需要的套件\n",
    "import os\n",
    "import numpy as np\n",
    "import pandas as pd\n",
    "import matplotlib.pyplot as plt\n",
    "%matplotlib inline\n",
    "\n",
    "# 設定 data_path\n",
    "dir_data = './'"
   ]
  },
  {
   "cell_type": "markdown",
   "metadata": {},
   "source": [
    "### 之前做過的處理"
   ]
  },
  {
   "cell_type": "code",
   "execution_count": 3,
   "metadata": {},
   "outputs": [
    {
     "output_type": "execute_result",
     "data": {
      "text/plain": [
       "(307511, 122)"
      ]
     },
     "metadata": {},
     "execution_count": 3
    }
   ],
   "source": [
    "# 讀取資料檔\n",
    "f_app_train = os.path.join(dir_data, 'application_train.csv')\n",
    "app_train = pd.read_csv(f_app_train)\n",
    "app_train.shape"
   ]
  },
  {
   "cell_type": "code",
   "execution_count": null,
   "metadata": {},
   "outputs": [],
   "source": []
  },
  {
   "cell_type": "code",
   "execution_count": 4,
   "metadata": {},
   "outputs": [
    {
     "output_type": "stream",
     "name": "stdout",
     "text": [
      "(307511, 122)\n"
     ]
    },
    {
     "output_type": "execute_result",
     "data": {
      "text/plain": [
       "   SK_ID_CURR  TARGET  NAME_CONTRACT_TYPE CODE_GENDER  FLAG_OWN_CAR  \\\n",
       "0      100002       1                   0           M             0   \n",
       "1      100003       0                   0           F             0   \n",
       "2      100004       0                   1           M             1   \n",
       "3      100006       0                   0           F             0   \n",
       "4      100007       0                   0           M             0   \n",
       "\n",
       "   FLAG_OWN_REALTY  CNT_CHILDREN  AMT_INCOME_TOTAL  AMT_CREDIT  AMT_ANNUITY  \\\n",
       "0                1             0          202500.0    406597.5      24700.5   \n",
       "1                0             0          270000.0   1293502.5      35698.5   \n",
       "2                1             0           67500.0    135000.0       6750.0   \n",
       "3                1             0          135000.0    312682.5      29686.5   \n",
       "4                1             0          121500.0    513000.0      21865.5   \n",
       "\n",
       "   ...  FLAG_DOCUMENT_18 FLAG_DOCUMENT_19 FLAG_DOCUMENT_20 FLAG_DOCUMENT_21  \\\n",
       "0  ...                 0                0                0                0   \n",
       "1  ...                 0                0                0                0   \n",
       "2  ...                 0                0                0                0   \n",
       "3  ...                 0                0                0                0   \n",
       "4  ...                 0                0                0                0   \n",
       "\n",
       "  AMT_REQ_CREDIT_BUREAU_HOUR AMT_REQ_CREDIT_BUREAU_DAY  \\\n",
       "0                        0.0                       0.0   \n",
       "1                        0.0                       0.0   \n",
       "2                        0.0                       0.0   \n",
       "3                        NaN                       NaN   \n",
       "4                        0.0                       0.0   \n",
       "\n",
       "   AMT_REQ_CREDIT_BUREAU_WEEK  AMT_REQ_CREDIT_BUREAU_MON  \\\n",
       "0                         0.0                        0.0   \n",
       "1                         0.0                        0.0   \n",
       "2                         0.0                        0.0   \n",
       "3                         NaN                        NaN   \n",
       "4                         0.0                        0.0   \n",
       "\n",
       "   AMT_REQ_CREDIT_BUREAU_QRT  AMT_REQ_CREDIT_BUREAU_YEAR  \n",
       "0                        0.0                         1.0  \n",
       "1                        0.0                         0.0  \n",
       "2                        0.0                         0.0  \n",
       "3                        NaN                         NaN  \n",
       "4                        0.0                         0.0  \n",
       "\n",
       "[5 rows x 122 columns]"
      ],
      "text/html": "<div>\n<style scoped>\n    .dataframe tbody tr th:only-of-type {\n        vertical-align: middle;\n    }\n\n    .dataframe tbody tr th {\n        vertical-align: top;\n    }\n\n    .dataframe thead th {\n        text-align: right;\n    }\n</style>\n<table border=\"1\" class=\"dataframe\">\n  <thead>\n    <tr style=\"text-align: right;\">\n      <th></th>\n      <th>SK_ID_CURR</th>\n      <th>TARGET</th>\n      <th>NAME_CONTRACT_TYPE</th>\n      <th>CODE_GENDER</th>\n      <th>FLAG_OWN_CAR</th>\n      <th>FLAG_OWN_REALTY</th>\n      <th>CNT_CHILDREN</th>\n      <th>AMT_INCOME_TOTAL</th>\n      <th>AMT_CREDIT</th>\n      <th>AMT_ANNUITY</th>\n      <th>...</th>\n      <th>FLAG_DOCUMENT_18</th>\n      <th>FLAG_DOCUMENT_19</th>\n      <th>FLAG_DOCUMENT_20</th>\n      <th>FLAG_DOCUMENT_21</th>\n      <th>AMT_REQ_CREDIT_BUREAU_HOUR</th>\n      <th>AMT_REQ_CREDIT_BUREAU_DAY</th>\n      <th>AMT_REQ_CREDIT_BUREAU_WEEK</th>\n      <th>AMT_REQ_CREDIT_BUREAU_MON</th>\n      <th>AMT_REQ_CREDIT_BUREAU_QRT</th>\n      <th>AMT_REQ_CREDIT_BUREAU_YEAR</th>\n    </tr>\n  </thead>\n  <tbody>\n    <tr>\n      <th>0</th>\n      <td>100002</td>\n      <td>1</td>\n      <td>0</td>\n      <td>M</td>\n      <td>0</td>\n      <td>1</td>\n      <td>0</td>\n      <td>202500.0</td>\n      <td>406597.5</td>\n      <td>24700.5</td>\n      <td>...</td>\n      <td>0</td>\n      <td>0</td>\n      <td>0</td>\n      <td>0</td>\n      <td>0.0</td>\n      <td>0.0</td>\n      <td>0.0</td>\n      <td>0.0</td>\n      <td>0.0</td>\n      <td>1.0</td>\n    </tr>\n    <tr>\n      <th>1</th>\n      <td>100003</td>\n      <td>0</td>\n      <td>0</td>\n      <td>F</td>\n      <td>0</td>\n      <td>0</td>\n      <td>0</td>\n      <td>270000.0</td>\n      <td>1293502.5</td>\n      <td>35698.5</td>\n      <td>...</td>\n      <td>0</td>\n      <td>0</td>\n      <td>0</td>\n      <td>0</td>\n      <td>0.0</td>\n      <td>0.0</td>\n      <td>0.0</td>\n      <td>0.0</td>\n      <td>0.0</td>\n      <td>0.0</td>\n    </tr>\n    <tr>\n      <th>2</th>\n      <td>100004</td>\n      <td>0</td>\n      <td>1</td>\n      <td>M</td>\n      <td>1</td>\n      <td>1</td>\n      <td>0</td>\n      <td>67500.0</td>\n      <td>135000.0</td>\n      <td>6750.0</td>\n      <td>...</td>\n      <td>0</td>\n      <td>0</td>\n      <td>0</td>\n      <td>0</td>\n      <td>0.0</td>\n      <td>0.0</td>\n      <td>0.0</td>\n      <td>0.0</td>\n      <td>0.0</td>\n      <td>0.0</td>\n    </tr>\n    <tr>\n      <th>3</th>\n      <td>100006</td>\n      <td>0</td>\n      <td>0</td>\n      <td>F</td>\n      <td>0</td>\n      <td>1</td>\n      <td>0</td>\n      <td>135000.0</td>\n      <td>312682.5</td>\n      <td>29686.5</td>\n      <td>...</td>\n      <td>0</td>\n      <td>0</td>\n      <td>0</td>\n      <td>0</td>\n      <td>NaN</td>\n      <td>NaN</td>\n      <td>NaN</td>\n      <td>NaN</td>\n      <td>NaN</td>\n      <td>NaN</td>\n    </tr>\n    <tr>\n      <th>4</th>\n      <td>100007</td>\n      <td>0</td>\n      <td>0</td>\n      <td>M</td>\n      <td>0</td>\n      <td>1</td>\n      <td>0</td>\n      <td>121500.0</td>\n      <td>513000.0</td>\n      <td>21865.5</td>\n      <td>...</td>\n      <td>0</td>\n      <td>0</td>\n      <td>0</td>\n      <td>0</td>\n      <td>0.0</td>\n      <td>0.0</td>\n      <td>0.0</td>\n      <td>0.0</td>\n      <td>0.0</td>\n      <td>0.0</td>\n    </tr>\n  </tbody>\n</table>\n<p>5 rows × 122 columns</p>\n</div>"
     },
     "metadata": {},
     "execution_count": 4
    }
   ],
   "source": [
    "# 將只有兩種值的類別型欄位, 做 Label Encoder, 計算相關係數時讓這些欄位可以被包含在內\n",
    "from sklearn.preprocessing import LabelEncoder\n",
    "le = LabelEncoder()\n",
    "\n",
    "# 檢查每一個 column\n",
    "for col in app_train:\n",
    "    if app_train[col].dtype == 'object':\n",
    "        # 如果只有兩種值的類別型欄位\n",
    "        if len(list(app_train[col].unique())) <= 2:\n",
    "            # 就做 Label Encoder, 以加入相關係數檢查\n",
    "            app_train[col] = le.fit_transform(app_train[col])            \n",
    "print(app_train.shape)\n",
    "app_train.head()"
   ]
  },
  {
   "cell_type": "code",
   "execution_count": 5,
   "metadata": {
    "collapsed": true
   },
   "outputs": [],
   "source": [
    "# 受雇日數為異常值的資料, 另外設一個欄位記錄, 並將異常的日數轉成空值 (np.nan)\n",
    "app_train['DAYS_EMPLOYED_ANOM'] = app_train[\"DAYS_EMPLOYED\"] == 365243\n",
    "app_train['DAYS_EMPLOYED'].replace({365243: np.nan}, inplace = True)\n",
    "\n",
    "# 出生日數 (DAYS_BIRTH) 取絕對值 \n",
    "app_train['DAYS_BIRTH'] = abs(app_train['DAYS_BIRTH'])"
   ]
  },
  {
   "cell_type": "markdown",
   "metadata": {},
   "source": [
    "## 練習時間\n",
    "參考 Day 17 範例程式，離散化你覺得有興趣的欄位，並嘗試找出有趣的訊息"
   ]
  },
  {
   "cell_type": "code",
   "execution_count": 12,
   "metadata": {
    "collapsed": true
   },
   "outputs": [],
   "source": [
    "app_train['AMT_INCOME_TOTAL_cut'] = pd.cut(app_train['AMT_INCOME_TOTAL'],10)"
   ]
  },
  {
   "cell_type": "code",
   "execution_count": 13,
   "metadata": {},
   "outputs": [
    {
     "output_type": "execute_result",
     "data": {
      "text/plain": [
       "(-91324.35, 11723085.0]       307508\n",
       "(11723085.0, 23420520.0]           2\n",
       "(105302565.0, 117000000.0]         1\n",
       "(23420520.0, 35117955.0]           0\n",
       "(35117955.0, 46815390.0]           0\n",
       "(46815390.0, 58512825.0]           0\n",
       "(58512825.0, 70210260.0]           0\n",
       "(70210260.0, 81907695.0]           0\n",
       "(81907695.0, 93605130.0]           0\n",
       "(93605130.0, 105302565.0]          0\n",
       "Name: AMT_INCOME_TOTAL_cut, dtype: int64"
      ]
     },
     "metadata": {},
     "execution_count": 13
    }
   ],
   "source": [
    "app_train.AMT_INCOME_TOTAL_cut.value_counts()"
   ]
  },
  {
   "cell_type": "code",
   "execution_count": 45,
   "metadata": {},
   "outputs": [],
   "source": [
    "app_train_outlier = app_train.drop(app_train[app_train['AMT_INCOME_TOTAL'] > 2170260].index)"
   ]
  },
  {
   "cell_type": "code",
   "execution_count": 49,
   "metadata": {},
   "outputs": [],
   "source": [
    "app_train_outlier['AMT_INCOME_TOTAL_cut'] = pd.cut(app_train_outlier['AMT_INCOME_TOTAL'],10)"
   ]
  },
  {
   "cell_type": "code",
   "execution_count": 50,
   "metadata": {},
   "outputs": [
    {
     "output_type": "execute_result",
     "data": {
      "text/plain": [
       "(23515.65, 239085.0]      261908\n",
       "(239085.0, 452520.0]       42467\n",
       "(452520.0, 665955.0]        1719\n",
       "(665955.0, 879390.0]         963\n",
       "(879390.0, 1092825.0]        222\n",
       "(1092825.0, 1306260.0]        89\n",
       "(1306260.0, 1519695.0]        59\n",
       "(1519695.0, 1733130.0]        20\n",
       "(1733130.0, 1946565.0]        20\n",
       "(1946565.0, 2160000.0]        10\n",
       "Name: AMT_INCOME_TOTAL_cut, dtype: int64"
      ]
     },
     "metadata": {},
     "execution_count": 50
    }
   ],
   "source": [
    "app_train_outlier.AMT_INCOME_TOTAL_cut.value_counts()"
   ]
  },
  {
   "cell_type": "code",
   "execution_count": 51,
   "metadata": {},
   "outputs": [
    {
     "output_type": "execute_result",
     "data": {
      "text/plain": [
       "                           SK_ID_CURR    TARGET  NAME_CONTRACT_TYPE  \\\n",
       "AMT_INCOME_TOTAL_cut                                                  \n",
       "(23515.65, 239085.0]    278157.718260  0.083480            0.096767   \n",
       "(239085.0, 452520.0]    278337.285233  0.065651            0.079780   \n",
       "(452520.0, 665955.0]    280036.497382  0.059919            0.116347   \n",
       "(665955.0, 879390.0]    275733.873313  0.047767            0.226376   \n",
       "(879390.0, 1092825.0]   272317.666667  0.054054            0.292793   \n",
       "(1092825.0, 1306260.0]  275306.022472  0.044944            0.191011   \n",
       "(1306260.0, 1519695.0]  274990.101695  0.050847            0.423729   \n",
       "(1519695.0, 1733130.0]  308808.950000  0.050000            0.100000   \n",
       "(1733130.0, 1946565.0]  269107.000000  0.100000            0.350000   \n",
       "(1946565.0, 2160000.0]  275089.500000  0.000000            0.000000   \n",
       "\n",
       "                        FLAG_OWN_CAR  FLAG_OWN_REALTY  CNT_CHILDREN  \\\n",
       "AMT_INCOME_TOTAL_cut                                                  \n",
       "(23515.65, 239085.0]        0.309758         0.692858      0.411748   \n",
       "(239085.0, 452520.0]        0.505781         0.698495      0.443050   \n",
       "(452520.0, 665955.0]        0.621291         0.712042      0.508435   \n",
       "(665955.0, 879390.0]        0.624091         0.698858      0.508827   \n",
       "(879390.0, 1092825.0]       0.653153         0.630631      0.459459   \n",
       "(1092825.0, 1306260.0]      0.730337         0.606742      0.550562   \n",
       "(1306260.0, 1519695.0]      0.745763         0.627119      0.694915   \n",
       "(1519695.0, 1733130.0]      0.600000         0.500000      0.350000   \n",
       "(1733130.0, 1946565.0]      0.600000         0.750000      0.550000   \n",
       "(1946565.0, 2160000.0]      0.800000         0.800000      0.500000   \n",
       "\n",
       "                        AMT_INCOME_TOTAL    AMT_CREDIT   AMT_ANNUITY  \\\n",
       "AMT_INCOME_TOTAL_cut                                                   \n",
       "(23515.65, 239085.0]        1.389222e+05  5.489754e+05  24980.145383   \n",
       "(239085.0, 452520.0]        3.105623e+05  8.693104e+05  38473.802225   \n",
       "(452520.0, 665955.0]        5.413798e+05  1.096785e+06  47841.013089   \n",
       "(665955.0, 879390.0]        7.049415e+05  1.131253e+06  52480.537383   \n",
       "(879390.0, 1092825.0]       9.190961e+05  1.202642e+06  59227.702703   \n",
       "(1092825.0, 1306260.0]      1.147068e+06  1.179627e+06  57121.634831   \n",
       "(1306260.0, 1519695.0]      1.353423e+06  1.134958e+06  55218.508475   \n",
       "(1519695.0, 1733130.0]      1.577250e+06  1.203312e+06  63524.025000   \n",
       "(1733130.0, 1946565.0]      1.822500e+06  1.033044e+06  61143.750000   \n",
       "(1946565.0, 2160000.0]      2.043000e+06  1.010088e+06  49230.450000   \n",
       "\n",
       "                        AMT_GOODS_PRICE  ...  FLAG_DOCUMENT_19  \\\n",
       "AMT_INCOME_TOTAL_cut                     ...                     \n",
       "(23515.65, 239085.0]       4.914985e+05  ...          0.000538   \n",
       "(239085.0, 452520.0]       7.905050e+05  ...          0.000942   \n",
       "(452520.0, 665955.0]       1.009008e+06  ...          0.001163   \n",
       "(665955.0, 879390.0]       1.056134e+06  ...          0.000000   \n",
       "(879390.0, 1092825.0]      1.139959e+06  ...          0.000000   \n",
       "(1092825.0, 1306260.0]     1.092236e+06  ...          0.000000   \n",
       "(1306260.0, 1519695.0]     1.082669e+06  ...          0.000000   \n",
       "(1519695.0, 1733130.0]     1.138950e+06  ...          0.000000   \n",
       "(1733130.0, 1946565.0]     9.929250e+05  ...          0.000000   \n",
       "(1946565.0, 2160000.0]     9.162000e+05  ...          0.000000   \n",
       "\n",
       "                        FLAG_DOCUMENT_20  FLAG_DOCUMENT_21  \\\n",
       "AMT_INCOME_TOTAL_cut                                         \n",
       "(23515.65, 239085.0]            0.000496          0.000363   \n",
       "(239085.0, 452520.0]            0.000612          0.000141   \n",
       "(452520.0, 665955.0]            0.000000          0.000582   \n",
       "(665955.0, 879390.0]            0.000000          0.000000   \n",
       "(879390.0, 1092825.0]           0.000000          0.004505   \n",
       "(1092825.0, 1306260.0]          0.000000          0.000000   \n",
       "(1306260.0, 1519695.0]          0.000000          0.000000   \n",
       "(1519695.0, 1733130.0]          0.000000          0.000000   \n",
       "(1733130.0, 1946565.0]          0.000000          0.000000   \n",
       "(1946565.0, 2160000.0]          0.000000          0.000000   \n",
       "\n",
       "                        AMT_REQ_CREDIT_BUREAU_HOUR  AMT_REQ_CREDIT_BUREAU_DAY  \\\n",
       "AMT_INCOME_TOTAL_cut                                                            \n",
       "(23515.65, 239085.0]                      0.006405                   0.006779   \n",
       "(239085.0, 452520.0]                      0.006313                   0.008027   \n",
       "(452520.0, 665955.0]                      0.006940                   0.006309   \n",
       "(665955.0, 879390.0]                      0.009281                   0.012761   \n",
       "(879390.0, 1092825.0]                     0.000000                   0.000000   \n",
       "(1092825.0, 1306260.0]                    0.013699                   0.000000   \n",
       "(1306260.0, 1519695.0]                    0.020408                   0.122449   \n",
       "(1519695.0, 1733130.0]                    0.000000                   0.000000   \n",
       "(1733130.0, 1946565.0]                    0.000000                   0.000000   \n",
       "(1946565.0, 2160000.0]                    0.000000                   0.000000   \n",
       "\n",
       "                        AMT_REQ_CREDIT_BUREAU_WEEK  AMT_REQ_CREDIT_BUREAU_MON  \\\n",
       "AMT_INCOME_TOTAL_cut                                                            \n",
       "(23515.65, 239085.0]                      0.033997                   0.246715   \n",
       "(239085.0, 452520.0]                      0.036368                   0.373581   \n",
       "(452520.0, 665955.0]                      0.042271                   0.510410   \n",
       "(665955.0, 879390.0]                      0.029002                   0.414153   \n",
       "(879390.0, 1092825.0]                     0.026738                   0.379679   \n",
       "(1092825.0, 1306260.0]                    0.027397                   0.452055   \n",
       "(1306260.0, 1519695.0]                    0.020408                   0.367347   \n",
       "(1519695.0, 1733130.0]                    0.000000                   0.105263   \n",
       "(1733130.0, 1946565.0]                    0.000000                   0.222222   \n",
       "(1946565.0, 2160000.0]                    0.000000                   1.666667   \n",
       "\n",
       "                        AMT_REQ_CREDIT_BUREAU_QRT  AMT_REQ_CREDIT_BUREAU_YEAR  \\\n",
       "AMT_INCOME_TOTAL_cut                                                            \n",
       "(23515.65, 239085.0]                     0.262022                    1.881363   \n",
       "(239085.0, 452520.0]                     0.287180                    2.027640   \n",
       "(452520.0, 665955.0]                     0.249842                    1.812618   \n",
       "(665955.0, 879390.0]                     0.238979                    1.501160   \n",
       "(879390.0, 1092825.0]                    0.197861                    1.235294   \n",
       "(1092825.0, 1306260.0]                   0.232877                    1.561644   \n",
       "(1306260.0, 1519695.0]                   0.387755                    1.265306   \n",
       "(1519695.0, 1733130.0]                   0.368421                    0.631579   \n",
       "(1733130.0, 1946565.0]                   0.222222                    1.055556   \n",
       "(1946565.0, 2160000.0]                   0.111111                    0.777778   \n",
       "\n",
       "                        DAYS_EMPLOYED_ANOM  \n",
       "AMT_INCOME_TOTAL_cut                        \n",
       "(23515.65, 239085.0]              0.194988  \n",
       "(239085.0, 452520.0]              0.096781  \n",
       "(452520.0, 665955.0]              0.065154  \n",
       "(665955.0, 879390.0]              0.066459  \n",
       "(879390.0, 1092825.0]             0.040541  \n",
       "(1092825.0, 1306260.0]            0.067416  \n",
       "(1306260.0, 1519695.0]            0.000000  \n",
       "(1519695.0, 1733130.0]            0.050000  \n",
       "(1733130.0, 1946565.0]            0.050000  \n",
       "(1946565.0, 2160000.0]            0.000000  \n",
       "\n",
       "[10 rows x 110 columns]"
      ],
      "text/html": "<div>\n<style scoped>\n    .dataframe tbody tr th:only-of-type {\n        vertical-align: middle;\n    }\n\n    .dataframe tbody tr th {\n        vertical-align: top;\n    }\n\n    .dataframe thead th {\n        text-align: right;\n    }\n</style>\n<table border=\"1\" class=\"dataframe\">\n  <thead>\n    <tr style=\"text-align: right;\">\n      <th></th>\n      <th>SK_ID_CURR</th>\n      <th>TARGET</th>\n      <th>NAME_CONTRACT_TYPE</th>\n      <th>FLAG_OWN_CAR</th>\n      <th>FLAG_OWN_REALTY</th>\n      <th>CNT_CHILDREN</th>\n      <th>AMT_INCOME_TOTAL</th>\n      <th>AMT_CREDIT</th>\n      <th>AMT_ANNUITY</th>\n      <th>AMT_GOODS_PRICE</th>\n      <th>...</th>\n      <th>FLAG_DOCUMENT_19</th>\n      <th>FLAG_DOCUMENT_20</th>\n      <th>FLAG_DOCUMENT_21</th>\n      <th>AMT_REQ_CREDIT_BUREAU_HOUR</th>\n      <th>AMT_REQ_CREDIT_BUREAU_DAY</th>\n      <th>AMT_REQ_CREDIT_BUREAU_WEEK</th>\n      <th>AMT_REQ_CREDIT_BUREAU_MON</th>\n      <th>AMT_REQ_CREDIT_BUREAU_QRT</th>\n      <th>AMT_REQ_CREDIT_BUREAU_YEAR</th>\n      <th>DAYS_EMPLOYED_ANOM</th>\n    </tr>\n    <tr>\n      <th>AMT_INCOME_TOTAL_cut</th>\n      <th></th>\n      <th></th>\n      <th></th>\n      <th></th>\n      <th></th>\n      <th></th>\n      <th></th>\n      <th></th>\n      <th></th>\n      <th></th>\n      <th></th>\n      <th></th>\n      <th></th>\n      <th></th>\n      <th></th>\n      <th></th>\n      <th></th>\n      <th></th>\n      <th></th>\n      <th></th>\n      <th></th>\n    </tr>\n  </thead>\n  <tbody>\n    <tr>\n      <th>(23515.65, 239085.0]</th>\n      <td>278157.718260</td>\n      <td>0.083480</td>\n      <td>0.096767</td>\n      <td>0.309758</td>\n      <td>0.692858</td>\n      <td>0.411748</td>\n      <td>1.389222e+05</td>\n      <td>5.489754e+05</td>\n      <td>24980.145383</td>\n      <td>4.914985e+05</td>\n      <td>...</td>\n      <td>0.000538</td>\n      <td>0.000496</td>\n      <td>0.000363</td>\n      <td>0.006405</td>\n      <td>0.006779</td>\n      <td>0.033997</td>\n      <td>0.246715</td>\n      <td>0.262022</td>\n      <td>1.881363</td>\n      <td>0.194988</td>\n    </tr>\n    <tr>\n      <th>(239085.0, 452520.0]</th>\n      <td>278337.285233</td>\n      <td>0.065651</td>\n      <td>0.079780</td>\n      <td>0.505781</td>\n      <td>0.698495</td>\n      <td>0.443050</td>\n      <td>3.105623e+05</td>\n      <td>8.693104e+05</td>\n      <td>38473.802225</td>\n      <td>7.905050e+05</td>\n      <td>...</td>\n      <td>0.000942</td>\n      <td>0.000612</td>\n      <td>0.000141</td>\n      <td>0.006313</td>\n      <td>0.008027</td>\n      <td>0.036368</td>\n      <td>0.373581</td>\n      <td>0.287180</td>\n      <td>2.027640</td>\n      <td>0.096781</td>\n    </tr>\n    <tr>\n      <th>(452520.0, 665955.0]</th>\n      <td>280036.497382</td>\n      <td>0.059919</td>\n      <td>0.116347</td>\n      <td>0.621291</td>\n      <td>0.712042</td>\n      <td>0.508435</td>\n      <td>5.413798e+05</td>\n      <td>1.096785e+06</td>\n      <td>47841.013089</td>\n      <td>1.009008e+06</td>\n      <td>...</td>\n      <td>0.001163</td>\n      <td>0.000000</td>\n      <td>0.000582</td>\n      <td>0.006940</td>\n      <td>0.006309</td>\n      <td>0.042271</td>\n      <td>0.510410</td>\n      <td>0.249842</td>\n      <td>1.812618</td>\n      <td>0.065154</td>\n    </tr>\n    <tr>\n      <th>(665955.0, 879390.0]</th>\n      <td>275733.873313</td>\n      <td>0.047767</td>\n      <td>0.226376</td>\n      <td>0.624091</td>\n      <td>0.698858</td>\n      <td>0.508827</td>\n      <td>7.049415e+05</td>\n      <td>1.131253e+06</td>\n      <td>52480.537383</td>\n      <td>1.056134e+06</td>\n      <td>...</td>\n      <td>0.000000</td>\n      <td>0.000000</td>\n      <td>0.000000</td>\n      <td>0.009281</td>\n      <td>0.012761</td>\n      <td>0.029002</td>\n      <td>0.414153</td>\n      <td>0.238979</td>\n      <td>1.501160</td>\n      <td>0.066459</td>\n    </tr>\n    <tr>\n      <th>(879390.0, 1092825.0]</th>\n      <td>272317.666667</td>\n      <td>0.054054</td>\n      <td>0.292793</td>\n      <td>0.653153</td>\n      <td>0.630631</td>\n      <td>0.459459</td>\n      <td>9.190961e+05</td>\n      <td>1.202642e+06</td>\n      <td>59227.702703</td>\n      <td>1.139959e+06</td>\n      <td>...</td>\n      <td>0.000000</td>\n      <td>0.000000</td>\n      <td>0.004505</td>\n      <td>0.000000</td>\n      <td>0.000000</td>\n      <td>0.026738</td>\n      <td>0.379679</td>\n      <td>0.197861</td>\n      <td>1.235294</td>\n      <td>0.040541</td>\n    </tr>\n    <tr>\n      <th>(1092825.0, 1306260.0]</th>\n      <td>275306.022472</td>\n      <td>0.044944</td>\n      <td>0.191011</td>\n      <td>0.730337</td>\n      <td>0.606742</td>\n      <td>0.550562</td>\n      <td>1.147068e+06</td>\n      <td>1.179627e+06</td>\n      <td>57121.634831</td>\n      <td>1.092236e+06</td>\n      <td>...</td>\n      <td>0.000000</td>\n      <td>0.000000</td>\n      <td>0.000000</td>\n      <td>0.013699</td>\n      <td>0.000000</td>\n      <td>0.027397</td>\n      <td>0.452055</td>\n      <td>0.232877</td>\n      <td>1.561644</td>\n      <td>0.067416</td>\n    </tr>\n    <tr>\n      <th>(1306260.0, 1519695.0]</th>\n      <td>274990.101695</td>\n      <td>0.050847</td>\n      <td>0.423729</td>\n      <td>0.745763</td>\n      <td>0.627119</td>\n      <td>0.694915</td>\n      <td>1.353423e+06</td>\n      <td>1.134958e+06</td>\n      <td>55218.508475</td>\n      <td>1.082669e+06</td>\n      <td>...</td>\n      <td>0.000000</td>\n      <td>0.000000</td>\n      <td>0.000000</td>\n      <td>0.020408</td>\n      <td>0.122449</td>\n      <td>0.020408</td>\n      <td>0.367347</td>\n      <td>0.387755</td>\n      <td>1.265306</td>\n      <td>0.000000</td>\n    </tr>\n    <tr>\n      <th>(1519695.0, 1733130.0]</th>\n      <td>308808.950000</td>\n      <td>0.050000</td>\n      <td>0.100000</td>\n      <td>0.600000</td>\n      <td>0.500000</td>\n      <td>0.350000</td>\n      <td>1.577250e+06</td>\n      <td>1.203312e+06</td>\n      <td>63524.025000</td>\n      <td>1.138950e+06</td>\n      <td>...</td>\n      <td>0.000000</td>\n      <td>0.000000</td>\n      <td>0.000000</td>\n      <td>0.000000</td>\n      <td>0.000000</td>\n      <td>0.000000</td>\n      <td>0.105263</td>\n      <td>0.368421</td>\n      <td>0.631579</td>\n      <td>0.050000</td>\n    </tr>\n    <tr>\n      <th>(1733130.0, 1946565.0]</th>\n      <td>269107.000000</td>\n      <td>0.100000</td>\n      <td>0.350000</td>\n      <td>0.600000</td>\n      <td>0.750000</td>\n      <td>0.550000</td>\n      <td>1.822500e+06</td>\n      <td>1.033044e+06</td>\n      <td>61143.750000</td>\n      <td>9.929250e+05</td>\n      <td>...</td>\n      <td>0.000000</td>\n      <td>0.000000</td>\n      <td>0.000000</td>\n      <td>0.000000</td>\n      <td>0.000000</td>\n      <td>0.000000</td>\n      <td>0.222222</td>\n      <td>0.222222</td>\n      <td>1.055556</td>\n      <td>0.050000</td>\n    </tr>\n    <tr>\n      <th>(1946565.0, 2160000.0]</th>\n      <td>275089.500000</td>\n      <td>0.000000</td>\n      <td>0.000000</td>\n      <td>0.800000</td>\n      <td>0.800000</td>\n      <td>0.500000</td>\n      <td>2.043000e+06</td>\n      <td>1.010088e+06</td>\n      <td>49230.450000</td>\n      <td>9.162000e+05</td>\n      <td>...</td>\n      <td>0.000000</td>\n      <td>0.000000</td>\n      <td>0.000000</td>\n      <td>0.000000</td>\n      <td>0.000000</td>\n      <td>0.000000</td>\n      <td>1.666667</td>\n      <td>0.111111</td>\n      <td>0.777778</td>\n      <td>0.000000</td>\n    </tr>\n  </tbody>\n</table>\n<p>10 rows × 110 columns</p>\n</div>"
     },
     "metadata": {},
     "execution_count": 51
    }
   ],
   "source": [
    "app_train_outlier.groupby(['AMT_INCOME_TOTAL_cut']).mean()"
   ]
  },
  {
   "cell_type": "code",
   "execution_count": 14,
   "metadata": {},
   "outputs": [],
   "source": [
    "app_train['AMT_INCOME_TOTAL_qcut'] = pd.qcut(app_train['AMT_INCOME_TOTAL'],10)"
   ]
  },
  {
   "cell_type": "code",
   "execution_count": 18,
   "metadata": {},
   "outputs": [
    {
     "output_type": "execute_result",
     "data": {
      "text/plain": [
       "(112500.0, 135000.0]       48849\n",
       "(180000.0, 225000.0]       44809\n",
       "(99000.0, 112500.0]        36907\n",
       "(25649.999, 81000.0]       33391\n",
       "(147150.0, 162000.0]       31120\n",
       "(162000.0, 180000.0]       30704\n",
       "(81000.0, 99000.0]         30280\n",
       "(270000.0, 117000000.0]    27161\n",
       "(225000.0, 270000.0]       19957\n",
       "(135000.0, 147150.0]        4333\n",
       "Name: AMT_INCOME_TOTAL_qcut, dtype: int64"
      ]
     },
     "metadata": {},
     "execution_count": 18
    }
   ],
   "source": [
    "app_train['AMT_INCOME_TOTAL_qcut'].value_counts()"
   ]
  },
  {
   "cell_type": "code",
   "execution_count": null,
   "metadata": {},
   "outputs": [],
   "source": []
  }
 ],
 "metadata": {
  "kernelspec": {
   "display_name": "Python 3",
   "language": "python",
   "name": "python3"
  },
  "language_info": {
   "codemirror_mode": {
    "name": "ipython",
    "version": 3
   },
   "file_extension": ".py",
   "mimetype": "text/x-python",
   "name": "python",
   "nbconvert_exporter": "python",
   "pygments_lexer": "ipython3",
   "version": "3.8.5-final"
  }
 },
 "nbformat": 4,
 "nbformat_minor": 2
}